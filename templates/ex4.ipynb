{
  "nbformat": 4,
  "nbformat_minor": 0,
  "metadata": {
    "colab": {
      "name": "Copy of ex4.ipynb",
      "provenance": [],
      "collapsed_sections": []
    },
    "kernelspec": {
      "name": "python3",
      "display_name": "Python 3"
    },
    "language_info": {
      "name": "python"
    }
  },
  "cells": [
    {
      "cell_type": "code",
      "metadata": {
        "id": "6Y_I858rzcTU"
      },
      "source": [
        "%matplotlib inline\n",
        "import numpy as np\n",
        "import matplotlib.pyplot as plt\n",
        "from matplotlib.colors import ListedColormap\n",
        "from sklearn.model_selection import train_test_split\n",
        "from sklearn.neighbors import KNeighborsClassifier\n",
        "from sklearn import metrics"
      ],
      "execution_count": null,
      "outputs": []
    },
    {
      "cell_type": "markdown",
      "metadata": {
        "id": "HQySghbok58J"
      },
      "source": [
        "# $\\star$ Question 1:\n",
        "Load the data from dataset.npz and split it evenly into a training set\n",
        "and a test set. \n",
        "\n",
        "Each sample consists of a point in 2D and a class label\n",
        "{1,2,3}. \n",
        "\n",
        "For each point in the test set, predict its label by a k-nearest\n",
        "neighbor classifier “trained” using the training set. \n",
        "\n",
        "Compute the average\n",
        "classification error using the true labels of the test set. \n",
        "\n",
        "Visualize the\n",
        "training points and the classified points and mark misclassifications. Do\n",
        "the same for different k."
      ]
    },
    {
      "cell_type": "code",
      "metadata": {
        "id": "neJO3VNZzgvG"
      },
      "source": [
        ""
      ],
      "execution_count": null,
      "outputs": []
    },
    {
      "cell_type": "markdown",
      "metadata": {
        "id": "zMUjMh7Fk4Ua"
      },
      "source": [
        "# $\\star$ Question 2:\n",
        "Do the same as above for different splits of the set into training and\n",
        "test set. \n",
        "\n",
        "Is the classification error always the same? \n",
        "\n",
        "Compute the mean and the variance of the classification error over multiple splits. \n",
        "\n",
        "How are the mean and the variance affected by k? \n",
        "\n",
        "What you should observe is an effect illustrating the so-called bias-variance tradeoff and will be discussed in more detail in the next class."
      ]
    },
    {
      "cell_type": "code",
      "metadata": {
        "id": "pikXvKuOzi5V"
      },
      "source": [
        ""
      ],
      "execution_count": null,
      "outputs": []
    }
  ]
}