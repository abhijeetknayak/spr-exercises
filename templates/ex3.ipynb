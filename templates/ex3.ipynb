{
  "nbformat": 4,
  "nbformat_minor": 0,
  "metadata": {
    "colab": {
      "name": "ex3.ipynb",
      "provenance": [],
      "collapsed_sections": []
    },
    "kernelspec": {
      "name": "python3",
      "display_name": "Python 3"
    },
    "language_info": {
      "name": "python"
    }
  },
  "cells": [
    {
      "cell_type": "code",
      "metadata": {
        "id": "78-2-HFZmy1C"
      },
      "source": [
        "%matplotlib inline\n",
        "import numpy as np\n",
        "import matplotlib.pyplot as plt\n",
        "from matplotlib.patches import Ellipse\n",
        "from sklearn.cluster import KMeans\n",
        "from sklearn.mixture import GaussianMixture"
      ],
      "execution_count": null,
      "outputs": []
    },
    {
      "cell_type": "markdown",
      "metadata": {
        "id": "g0hzVF3knGGa"
      },
      "source": [
        "# $\\star$ Question 1:\n",
        "\n",
        "Run the Sklearn implementations of k-means and expectation maximization on the dataset *gaussianplus.npz*.\n",
        "\n",
        "\n",
        "Plot the estimated assignments and the estimated\n",
        "parameters of the two Gaussians. \n",
        "\n",
        "Describe how the fitting by expectation maximization outperforms the one with k-means.\n",
        "\n",
        "Try with varying, also\n",
        "very bad initializations. How stable are the results?"
      ]
    },
    {
      "cell_type": "code",
      "metadata": {
        "id": "VzPFK-xXnJi0"
      },
      "source": [
        ""
      ],
      "execution_count": null,
      "outputs": []
    },
    {
      "cell_type": "markdown",
      "metadata": {
        "id": "w6kyRTFRnJ6j"
      },
      "source": [
        "# $\\star\\star\\star$  Question 2:\n",
        "\n",
        "Build your own implementations of k-means and EM to learn in\n",
        "detail how these important algorithms work.\n",
        "\n",
        "Compare your implementation with the sklearn\n",
        "implementation."
      ]
    },
    {
      "cell_type": "code",
      "metadata": {
        "id": "z_ySDrzknOpV"
      },
      "source": [
        ""
      ],
      "execution_count": null,
      "outputs": []
    }
  ]
}