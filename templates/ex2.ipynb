{
 "cells": [
  {
   "cell_type": "code",
   "execution_count": 18,
   "metadata": {
    "id": "h0FrAGlmstnq"
   },
   "outputs": [],
   "source": [
    "%matplotlib inline\n",
    "import numpy as np\n",
    "import matplotlib.pyplot as plt\n",
    "from matplotlib.patches import Ellipse"
   ]
  },
  {
   "cell_type": "markdown",
   "metadata": {
    "id": "_n1dUCDbcPR0"
   },
   "source": [
    "# $\\star$ Question 2: \n",
    "Estimate the mean and covariance matrix of the dataset *gaussian.npz* via ML\n",
    "estimation.\n",
    "\n",
    "Plot the points and indicate the mean via a cross and the covariance via an\n",
    "ellipse. \n",
    "\n",
    "Consult the matplotlib documentation to see how to draw an ellipse. \n",
    "(https://matplotlib.org/3.1.1/api/_as_gen/matplotlib.patches.Ellipse.html)\n",
    "\n",
    "\n",
    "You obtain the ellipse axes by an eigen-decomposition of the matrix (Numpy function linalg.eig). \n",
    "\n",
    "The scaling of the axes is given by the eigenvalues. Review the concept of an eigen-decomposition in the\n",
    "internet or a math book if you lack this basic math knowledge."
   ]
  },
  {
   "cell_type": "markdown",
   "metadata": {
    "id": "YPFPSH6JePII"
   },
   "source": [
    "# Question 2.1: Mean and Covariance estimation \n",
    "Estimate the mean and covariance matrix of the dataset, you can compare these to the built in numpy functions and see if you see a difference."
   ]
  },
  {
   "cell_type": "code",
   "execution_count": 19,
   "metadata": {
    "id": "mIPf04qvqz9x"
   },
   "outputs": [
    {
     "data": {
      "text/plain": [
       "(100, 2)"
      ]
     },
     "execution_count": 19,
     "metadata": {},
     "output_type": "execute_result"
    }
   ],
   "source": [
    "gaussian = np.load('../data/gaussian.npz', mmap_mode='r')['arr_0']\n",
    "gaussian.shape"
   ]
  },
  {
   "cell_type": "code",
   "execution_count": 27,
   "metadata": {},
   "outputs": [
    {
     "name": "stdout",
     "output_type": "stream",
     "text": [
      "Mean : [2.12308534 3.12168402]\n",
      "Mean with Numpy : [2.12308534 3.12168402]\n",
      "Variance : [[1.33765954 2.0820358 ]\n",
      " [2.0820358  3.98639368]]\n",
      "Variance with Numpy : [[1.35117126 2.10306646]\n",
      " [2.10306646 4.02666029]]\n"
     ]
    }
   ],
   "source": [
    "N = gaussian.shape[0]\n",
    "mean = (1 / N) * np.sum(gaussian, axis=0)\n",
    "x_ = gaussian - mean # Broadcast\n",
    "var = (1 / N) * (np.dot(x_.T, x_))\n",
    "print(\"Mean : {}\".format(mean))\n",
    "print(\"Mean with Numpy : {}\".format(np.mean(gaussian, axis=0)))\n",
    "\n",
    "print(\"Variance : {}\".format(var))\n",
    "print(\"Variance with Numpy : {}\".format(np.cov(gaussian.T)))"
   ]
  },
  {
   "cell_type": "markdown",
   "metadata": {
    "id": "0j06--zaevaY"
   },
   "source": [
    "# Question 2.2: Plotting the graph\n",
    "Plot the points and indicate the mean via a cross and the covariance via an\n",
    "ellipse"
   ]
  },
  {
   "cell_type": "code",
   "execution_count": 60,
   "metadata": {
    "id": "hWvbNsOHqsOI"
   },
   "outputs": [
    {
     "data": {
      "text/plain": [
       "<matplotlib.collections.PathCollection at 0x1bd7eab0358>"
      ]
     },
     "execution_count": 60,
     "metadata": {},
     "output_type": "execute_result"
    },
    {
     "data": {
      "image/png": "[encoded data removed]",
      "text/plain": [
       "<Figure size 432x288 with 1 Axes>"
      ]
     },
     "metadata": {
      "needs_background": "light"
     },
     "output_type": "display_data"
    }
   ],
   "source": [
    "fig, ax = plt.subplots()\n",
    "\n",
    "eig_values, eig_vectors = np.linalg.eig(var)\n",
    "\n",
    "for i in range(1, 4):\n",
    "    ellipse = Ellipse(xy=(mean[0], mean[1]), width=np.sqrt(eig_values[0]) * i,\n",
    "                  height=np.sqrt(eig_values[1]) * i,\n",
    "                  angle=np.rad2deg(np.arctan2(eig_vectors[1, 0], eig_vectors[0, 0])),\n",
    "                 facecolor='none', edgecolor='red')\n",
    "    ax.add_artist(ellipse)\n",
    "\n",
    "plt.scatter(gaussian[:, 0], gaussian[:, 1], s=10)\n",
    "plt.scatter(mean[0], mean[1], marker='*', color='red', s=20)"
   ]
  },
  {
   "cell_type": "markdown",
   "metadata": {
    "id": "WEGDRJXMfnAM"
   },
   "source": [
    "# $\\star\\star$ Question 3:\n",
    "Create reduced datasets by considering only the first 2, 5, 10 points and estimate the mean via MAP. \n",
    "\n",
    "Use the ML estimate of the covariance $ \\Sigma $ <sub>**ML,100**</sub> (estimated from all 100 points) as known covariance. \n",
    "\n",
    "Assume the conjugate prior with $\\mu_0 = (2,3)^T $ and covariance $\\Sigma_0 =\\Sigma $ <sub>**ML,100**</sub>\n",
    "\n",
    "\n",
    "Draw the ML and the MAP estimates into the point clouds (the covariance is the same as it is assumed to be known here). \n",
    "\n",
    "How reliable is the ML estimate when there are only few measurements? \n",
    "\n",
    "Now work with a slightly wrong prior $\\mu_0 = (2,5)^T $\n",
    "and see how the effect of the prior is reduced as more measurements come\n",
    "in."
   ]
  },
  {
   "cell_type": "markdown",
   "metadata": {
    "id": "CVwvFvWAlLcR"
   },
   "source": [
    "# Question 3.1: Using the correct prior\n",
    "Using   $\\mu_0 = (2,3)^T $\n",
    "\n"
   ]
  },
  {
   "cell_type": "code",
   "execution_count": 97,
   "metadata": {},
   "outputs": [],
   "source": [
    "def MAPEstimator(x, n, mean_0, cov):\n",
    "    dataset = x[0:n, :]\n",
    "    cov_0 = cov\n",
    "    \n",
    "    cov_n = np.linalg.inv(n * np.linalg.inv(cov) + np.linalg.inv(cov_0))\n",
    "    mean_n = cov_n @ (np.linalg.inv(cov_0) @ mean_0\n",
    "                      + n * (np.linalg.inv(cov) @ np.mean(dataset, axis=0)))\n",
    "    print(\"Mean using {} data points :\".format(n))\n",
    "    print(mean_n)\n",
    "    print(\"Covariance using {} data points : \".format(n))\n",
    "    print(cov_n)\n",
    "    \n",
    "    return mean_n, cov_n"
   ]
  },
  {
   "cell_type": "code",
   "execution_count": 98,
   "metadata": {
    "id": "0nmuWzc_qpww"
   },
   "outputs": [
    {
     "name": "stdout",
     "output_type": "stream",
     "text": [
      "Mean using 2 data points :\n",
      "[2.79051738 4.17201882]\n",
      "Covariance using 2 data points : \n",
      "[[0.44588651 0.69401193]\n",
      " [0.69401193 1.32879789]]\n"
     ]
    },
    {
     "data": {
      "text/plain": [
       "(array([2.79051738, 4.17201882]),\n",
       " array([[0.44588651, 0.69401193],\n",
       "        [0.69401193, 1.32879789]]))"
      ]
     },
     "execution_count": 98,
     "metadata": {},
     "output_type": "execute_result"
    }
   ],
   "source": [
    "mean_0 = np.array([2, 3]) \n",
    "MAPMean_2, MAPCov_2 = MAPEstimator(gaussian, 2, mean_0, var)"
   ]
  },
  {
   "cell_type": "code",
   "execution_count": 95,
   "metadata": {},
   "outputs": [
    {
     "name": "stdout",
     "output_type": "stream",
     "text": [
      "Mean using 5 data points :\n",
      "[2.21560731 3.29619296]\n",
      "Covariance using 5 data points : \n",
      "[[0.22294326 0.34700597]\n",
      " [0.34700597 0.66439895]]\n"
     ]
    }
   ],
   "source": [
    "MAPMean_5, MAPCov_5 = MAPEstimator(gaussian, 5, mean_0, var)"
   ]
  },
  {
   "cell_type": "code",
   "execution_count": 99,
   "metadata": {},
   "outputs": [
    {
     "name": "stdout",
     "output_type": "stream",
     "text": [
      "Mean using 10 data points :\n",
      "[2.56752927 4.00546172]\n",
      "Covariance using 10 data points : \n",
      "[[0.12160541 0.18927598]\n",
      " [0.18927598 0.36239943]]\n"
     ]
    }
   ],
   "source": [
    "MAPMean_10, MAPCov_10 = MAPEstimator(gaussian, 10, mean_0, var)"
   ]
  },
  {
   "cell_type": "code",
   "execution_count": null,
   "metadata": {},
   "outputs": [],
   "source": []
  },
  {
   "cell_type": "code",
   "execution_count": null,
   "metadata": {},
   "outputs": [],
   "source": []
  },
  {
   "cell_type": "markdown",
   "metadata": {
    "id": "6hqDM0OAl_Ic"
   },
   "source": [
    "# Question 3.2: Using a slightly wrong prior\n",
    "Using $\\mu_0 = (2,5)^T $"
   ]
  },
  {
   "cell_type": "code",
   "execution_count": null,
   "metadata": {
    "id": "iFpRSggLqnax"
   },
   "outputs": [],
   "source": []
  },
  {
   "cell_type": "markdown",
   "metadata": {
    "id": "zvbfBkcAm0YX"
   },
   "source": [
    "# $\\star$ Question 4:\n",
    "Estimate mean and covariance of the dataset *gaussianplus.npz* using ML and show\n",
    "the result. How well does the estimate reflect the true data?"
   ]
  },
  {
   "cell_type": "code",
   "execution_count": null,
   "metadata": {
    "id": "lMmKYJLuqlYQ"
   },
   "outputs": [],
   "source": []
  },
  {
   "cell_type": "code",
   "execution_count": null,
   "metadata": {},
   "outputs": [],
   "source": []
  },
  {
   "cell_type": "code",
   "execution_count": null,
   "metadata": {},
   "outputs": [],
   "source": []
  },
  {
   "cell_type": "code",
   "execution_count": null,
   "metadata": {},
   "outputs": [],
   "source": []
  },
  {
   "cell_type": "code",
   "execution_count": null,
   "metadata": {},
   "outputs": [],
   "source": []
  },
  {
   "cell_type": "code",
   "execution_count": null,
   "metadata": {},
   "outputs": [],
   "source": []
  },
  {
   "cell_type": "code",
   "execution_count": null,
   "metadata": {},
   "outputs": [],
   "source": []
  },
  {
   "cell_type": "markdown",
   "metadata": {},
   "source": [
    "### Geometry of the Gaussian"
   ]
  },
  {
   "cell_type": "code",
   "execution_count": 5,
   "metadata": {},
   "outputs": [
    {
     "data": {
      "text/plain": [
       "<matplotlib.collections.PathCollection at 0x1bd7bb17828>"
      ]
     },
     "execution_count": 5,
     "metadata": {},
     "output_type": "execute_result"
    },
    {
     "data": {
      "image/png": "[encoded data removed]",
      "text/plain": [
       "<Figure size 432x288 with 1 Axes>"
      ]
     },
     "metadata": {
      "needs_background": "light"
     },
     "output_type": "display_data"
    }
   ],
   "source": [
    "import numpy as np\n",
    "import matplotlib.pyplot as plt\n",
    "\n",
    "M = 1000\n",
    "# Samples froma Normal Distribution\n",
    "samples = np.random.randn(M, 2)\n",
    "plt.axis('equal')\n",
    "plt.scatter(samples[:, 0], samples[:, 1])"
   ]
  },
  {
   "cell_type": "code",
   "execution_count": 7,
   "metadata": {},
   "outputs": [
    {
     "data": {
      "text/plain": [
       "<matplotlib.collections.PathCollection at 0x1bd7bc1a550>"
      ]
     },
     "execution_count": 7,
     "metadata": {},
     "output_type": "execute_result"
    },
    {
     "data": {
      "image/png": "[encoded data removed]",
      "text/plain": [
       "<Figure size 432x288 with 1 Axes>"
      ]
     },
     "metadata": {
      "needs_background": "light"
     },
     "output_type": "display_data"
    }
   ],
   "source": [
    "scaling_matrix = np.array([[3, 0], [0, 1]])\n",
    "samples_scaled = samples @ scaling_matrix\n",
    "plt.axis('equal')\n",
    "plt.scatter(samples_scaled[:, 0], samples_scaled[:, 1])"
   ]
  },
  {
   "cell_type": "code",
   "execution_count": 13,
   "metadata": {},
   "outputs": [
    {
     "data": {
      "text/plain": [
       "<matplotlib.collections.PathCollection at 0x1bd7bdf8128>"
      ]
     },
     "execution_count": 13,
     "metadata": {},
     "output_type": "execute_result"
    },
    {
     "data": {
      "image/png": "[encoded data removed]",
      "text/plain": [
       "<Figure size 432x288 with 1 Axes>"
      ]
     },
     "metadata": {
      "needs_background": "light"
     },
     "output_type": "display_data"
    }
   ],
   "source": [
    "# Rotation\n",
    "theta = -np.pi / 4\n",
    "rotation_matrix = np.array([[np.cos(theta), -np.sin(theta)],\n",
    "                            [np.sin(theta), np.cos(theta)]])\n",
    "samples_scaled_rotated = samples_scaled @ rotation_matrix\n",
    "plt.axis('equal')\n",
    "plt.scatter(samples_scaled_rotated[:, 0], samples_scaled_rotated[:, 1])"
   ]
  },
  {
   "cell_type": "code",
   "execution_count": 14,
   "metadata": {},
   "outputs": [
    {
     "data": {
      "text/plain": [
       "<matplotlib.collections.PathCollection at 0x1bd7be60198>"
      ]
     },
     "execution_count": 14,
     "metadata": {},
     "output_type": "execute_result"
    },
    {
     "data": {
      "image/png": "[encoded data removed]",
      "text/plain": [
       "<Figure size 432x288 with 1 Axes>"
      ]
     },
     "metadata": {
      "needs_background": "light"
     },
     "output_type": "display_data"
    }
   ],
   "source": [
    "# Shift\n",
    "mean = np.array([[4], [4]])\n",
    "samples_scaled_rotated += mean.T\n",
    "\n",
    "plt.axis('equal')\n",
    "plt.scatter(samples_scaled_rotated[:, 0], samples_scaled_rotated[:, 1])"
   ]
  },
  {
   "cell_type": "code",
   "execution_count": 17,
   "metadata": {},
   "outputs": [
    {
     "data": {
      "text/plain": [
       "(array([41470.53065494,  1029.30443595]),\n",
       " array([[ 0.70932796, -0.70487861],\n",
       "        [ 0.70487861,  0.70932796]]))"
      ]
     },
     "execution_count": 17,
     "metadata": {},
     "output_type": "execute_result"
    }
   ],
   "source": [
    "np.linalg.eig(samples_scaled_rotated.T @ samples_scaled_rotated)"
   ]
  },
  {
   "cell_type": "code",
   "execution_count": null,
   "metadata": {},
   "outputs": [],
   "source": []
  }
 ],
 "metadata": {
  "colab": {
   "collapsed_sections": [],
   "name": "Copy of Exercise2_SPR.ipynb",
   "provenance": []
  },
  "kernelspec": {
   "display_name": "Python 3",
   "language": "python",
   "name": "python3"
  },
  "language_info": {
   "codemirror_mode": {
    "name": "ipython",
    "version": 3
   },
   "file_extension": ".py",
   "mimetype": "text/x-python",
   "name": "python",
   "nbconvert_exporter": "python",
   "pygments_lexer": "ipython3",
   "version": "3.6.8"
  }
 },
 "nbformat": 4,
 "nbformat_minor": 1
}
